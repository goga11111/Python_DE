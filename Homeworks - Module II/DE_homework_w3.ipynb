{
 "cells": [
  {
   "cell_type": "markdown",
   "metadata": {},
   "source": [
    "Which 10 companies make the most money? "
   ]
  },
  {
   "cell_type": "code",
   "execution_count": null,
   "metadata": {},
   "outputs": [],
   "source": [
    "select \n",
    "    sum(a.fare) fare, b.company\n",
    "from \n",
    "    chicago_taxi_db.taxi_trips a\n",
    "    join chicago_taxi_db.company b on a.company_id = b.company_id\n",
    "group by \n",
    "    b.company\n",
    "order by \n",
    "    1 desc\n",
    "limit 10"
   ]
  },
  {
   "cell_type": "markdown",
   "metadata": {},
   "source": [
    "Show the 10 pickup community areas with the most rides. "
   ]
  },
  {
   "cell_type": "code",
   "execution_count": null,
   "metadata": {},
   "outputs": [],
   "source": [
    "select \n",
    "    b.community_name, sum(a.pickup_community_area_id) sum\n",
    "from \n",
    "    chicago_taxi_db.taxi_trips a\n",
    "    join chicago_taxi_db.community_areas b on a.pickup_community_area_id=b.area_code\n",
    "group by \n",
    "    b.community_name\n",
    "order by \n",
    "    sum(a.pickup_community_area_id) desc\n",
    "limit 10"
   ]
  },
  {
   "cell_type": "markdown",
   "metadata": {},
   "source": [
    "Get the count of taxi rides per day of week."
   ]
  },
  {
   "cell_type": "code",
   "execution_count": null,
   "metadata": {},
   "outputs": [],
   "source": [
    "select case \n",
    "        when b.day_of_week = 6 then 'Monday'\n",
    "        when b.day_of_week = 5 then 'Tuesday'\n",
    "        when b.day_of_week = 4 then 'Wednesday'\n",
    "        when b.day_of_week = 3 then 'Thursday'\n",
    "        when b.day_of_week = 2 then 'Friday'\n",
    "        when b.day_of_week = 1 then 'Saturday'\n",
    "        when b.day_of_week = 7 then 'Sunday'\n",
    "        end Day, \n",
    "    count(*) db\n",
    "from chicago_taxi_db.taxi_trips a\n",
    "    join chicago_taxi_db.date b on a.trip_start_timestamp=b.date\n",
    "group by \n",
    "    b.day_of_week\n",
    "order by \n",
    "    min(b.day_of_week)"
   ]
  },
  {
   "cell_type": "markdown",
   "metadata": {},
   "source": []
  }
 ],
 "metadata": {
  "language_info": {
   "name": "python"
  }
 },
 "nbformat": 4,
 "nbformat_minor": 2
}
