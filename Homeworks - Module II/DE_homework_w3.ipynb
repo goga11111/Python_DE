{
 "cells": [
  {
   "cell_type": "markdown",
   "metadata": {},
   "source": [
    "Which 10 companies make the most money? "
   ]
  },
  {
   "cell_type": "code",
   "execution_count": null,
   "metadata": {},
   "outputs": [],
   "source": [
    "select sum(a.fare) fare, b.company\n",
    "from chicago_taxi_db.taxi_trips a\n",
    "    join chicago_taxi_db.company b on a.company_id = b.company_id\n",
    "group by b.company\n",
    "order by 1 desc"
   ]
  },
  {
   "cell_type": "markdown",
   "metadata": {},
   "source": [
    "Show the 10 pickup community areas with the most rides. "
   ]
  },
  {
   "cell_type": "code",
   "execution_count": null,
   "metadata": {},
   "outputs": [],
   "source": [
    "select b.community_name, sum(a.pickup_community_area_id) sum\n",
    "from chicago_taxi_db.taxi_trips a\n",
    "    join chicago_taxi_db.community_areas b on a.pickup_community_area_id=b.area_code\n",
    "group by b.community_name\n",
    "order by sum(a.pickup_community_area_id) desc"
   ]
  },
  {
   "cell_type": "markdown",
   "metadata": {},
   "source": [
    "Get the count of taxi rides per day of week."
   ]
  },
  {
   "cell_type": "code",
   "execution_count": null,
   "metadata": {},
   "outputs": [],
   "source": [
    "select a.trip_start_timestamp, count(a.trip_start_timestamp) ts\n",
    "from chicago_taxi_db.taxi_trips a\n",
    "    join chicago_taxi_db.date b on a.trip_start_timestamp=b.date\n",
    "group by a.trip_start_timestamp\n",
    "order by trip_start_timestamp"
   ]
  },
  {
   "cell_type": "markdown",
   "metadata": {},
   "source": []
  }
 ],
 "metadata": {
  "language_info": {
   "name": "python"
  }
 },
 "nbformat": 4,
 "nbformat_minor": 2
}
