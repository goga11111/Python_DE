{
 "cells": [
  {
   "cell_type": "code",
   "execution_count": 7,
   "metadata": {},
   "outputs": [],
   "source": [
    "from datetime import datetime\n",
    "from dateutil.relativedelta import relativedelta\n",
    "import os\n",
    "import pandas as pd\n",
    "import requests\n",
    "pd.set_option(\"display.max_columns\", 30)"
   ]
  },
  {
   "cell_type": "code",
   "execution_count": 8,
   "metadata": {},
   "outputs": [
    {
     "data": {
      "text/plain": [
       "'\\n1. get data from S3\\n2. weather data transformaiton\\n3. taxi trips transformations\\n4. update payment_type\\n5. update company_master\\n6. update taxi_trips with company and payment_type\\n7. upload weather data to S3\\n8. upload taxi data to S3\\n9. upload the newest payment_type_master and company_master\\n'"
      ]
     },
     "execution_count": 8,
     "metadata": {},
     "output_type": "execute_result"
    }
   ],
   "source": [
    "\"\"\"\n",
    "1. get data from S3\n",
    "2. weather data transformaiton\n",
    "3. taxi trips transformations\n",
    "4. update payment_type\n",
    "5. update company_master\n",
    "6. update taxi_trips with company and payment_type\n",
    "7. upload weather data to S3\n",
    "8. upload taxi data to S3\n",
    "9. upload the newest payment_type_master and company_master\n",
    "\"\"\""
   ]
  },
  {
   "cell_type": "markdown",
   "metadata": {},
   "source": [
    "Taxi trips transformation codes"
   ]
  },
  {
   "cell_type": "code",
   "execution_count": 9,
   "metadata": {},
   "outputs": [],
   "source": [
    "current_datetime = datetime.now() - relativedelta(months=2)\n",
    "formatted_datetime = current_datetime.strftime(\"%Y-%m-%d\")\n",
    "\n",
    "url = (\n",
    "    f\"https://data.cityofchicago.org/resource/ajtu-isnz.json?\"\n",
    "    f\"$where=trip_start_timestamp >= '{formatted_datetime}T00:00:00' \"\n",
    "    f\"AND trip_start_timestamp <= '{formatted_datetime}T23:59:59'&$limit=30000\"\n",
    ")\n",
    "response = requests.get(url)\n",
    "\n",
    "data = response.json()\n"
   ]
  },
  {
   "cell_type": "code",
   "execution_count": 10,
   "metadata": {},
   "outputs": [],
   "source": [
    "taxi_trips = pd.DataFrame(data)"
   ]
  },
  {
   "cell_type": "code",
   "execution_count": 11,
   "metadata": {},
   "outputs": [
    {
     "name": "stdout",
     "output_type": "stream",
     "text": [
      "<class 'pandas.core.frame.DataFrame'>\n",
      "RangeIndex: 23278 entries, 0 to 23277\n",
      "Data columns (total 19 columns):\n",
      " #   Column                      Non-Null Count  Dtype \n",
      "---  ------                      --------------  ----- \n",
      " 0   trip_id                     23278 non-null  object\n",
      " 1   taxi_id                     23278 non-null  object\n",
      " 2   trip_start_timestamp        23278 non-null  object\n",
      " 3   trip_end_timestamp          23278 non-null  object\n",
      " 4   trip_seconds                23275 non-null  object\n",
      " 5   trip_miles                  23278 non-null  object\n",
      " 6   pickup_community_area       22725 non-null  object\n",
      " 7   dropoff_community_area      21335 non-null  object\n",
      " 8   fare                        23214 non-null  object\n",
      " 9   tips                        23214 non-null  object\n",
      " 10  tolls                       23214 non-null  object\n",
      " 11  extras                      23214 non-null  object\n",
      " 12  trip_total                  23214 non-null  object\n",
      " 13  payment_type                23278 non-null  object\n",
      " 14  company                     23278 non-null  object\n",
      " 15  pickup_centroid_latitude    22740 non-null  object\n",
      " 16  pickup_centroid_longitude   22740 non-null  object\n",
      " 17  dropoff_centroid_latitude   21492 non-null  object\n",
      " 18  dropoff_centroid_longitude  21492 non-null  object\n",
      "dtypes: object(19)\n",
      "memory usage: 3.4+ MB\n"
     ]
    },
    {
     "name": "stderr",
     "output_type": "stream",
     "text": [
      "C:\\Users\\Goga\\AppData\\Local\\Temp\\ipykernel_14084\\3452751555.py:9: FutureWarning: 'H' is deprecated and will be removed in a future version, please use 'h' instead.\n",
      "  taxi_trips[\"datetime_for_weather\"] = pd.to_datetime(taxi_trips[\"trip_start_timestamp\"]).dt.floor(\"H\")\n"
     ]
    }
   ],
   "source": [
    "taxi_trips.drop([\"pickup_census_tract\", \"dropoff_census_tract\"], axis=1, inplace=True)\n",
    "taxi_trips.drop([\"pickup_centroid_location\", \"dropoff_centroid_location\"], axis=1, inplace=True)\n",
    "\n",
    "taxi_trips.info()\n",
    "\n",
    "taxi_trips.rename(columns={\"pickup_community_area\": \"pickup_community_area_id\",\n",
    "                           \"dropoff_community_area\": \"dropoff_community_area_id\"}, inplace=True)\n",
    "\n",
    "taxi_trips[\"datetime_for_weather\"] = pd.to_datetime(taxi_trips[\"trip_start_timestamp\"]).dt.floor(\"H\")\n"
   ]
  },
  {
   "cell_type": "code",
   "execution_count": 12,
   "metadata": {},
   "outputs": [
    {
     "data": {
      "text/html": [
       "<div>\n",
       "<style scoped>\n",
       "    .dataframe tbody tr th:only-of-type {\n",
       "        vertical-align: middle;\n",
       "    }\n",
       "\n",
       "    .dataframe tbody tr th {\n",
       "        vertical-align: top;\n",
       "    }\n",
       "\n",
       "    .dataframe thead th {\n",
       "        text-align: right;\n",
       "    }\n",
       "</style>\n",
       "<table border=\"1\" class=\"dataframe\">\n",
       "  <thead>\n",
       "    <tr style=\"text-align: right;\">\n",
       "      <th></th>\n",
       "      <th>trip_id</th>\n",
       "      <th>taxi_id</th>\n",
       "      <th>trip_start_timestamp</th>\n",
       "      <th>trip_end_timestamp</th>\n",
       "      <th>trip_seconds</th>\n",
       "      <th>trip_miles</th>\n",
       "      <th>pickup_community_area_id</th>\n",
       "      <th>dropoff_community_area_id</th>\n",
       "      <th>fare</th>\n",
       "      <th>tips</th>\n",
       "      <th>tolls</th>\n",
       "      <th>extras</th>\n",
       "      <th>trip_total</th>\n",
       "      <th>payment_type</th>\n",
       "      <th>company</th>\n",
       "      <th>pickup_centroid_latitude</th>\n",
       "      <th>pickup_centroid_longitude</th>\n",
       "      <th>dropoff_centroid_latitude</th>\n",
       "      <th>dropoff_centroid_longitude</th>\n",
       "      <th>datetime_for_weather</th>\n",
       "    </tr>\n",
       "  </thead>\n",
       "  <tbody>\n",
       "    <tr>\n",
       "      <th>0</th>\n",
       "      <td>9a0eee16b60afd495822f50ab2b7559f775777d5</td>\n",
       "      <td>de9289a1fce135051f6e9206044f8211c86a1a6acd68d4...</td>\n",
       "      <td>2024-06-12T23:45:00.000</td>\n",
       "      <td>2024-06-13T00:15:00.000</td>\n",
       "      <td>1616</td>\n",
       "      <td>12.86</td>\n",
       "      <td>8</td>\n",
       "      <td>48</td>\n",
       "      <td>34</td>\n",
       "      <td>0</td>\n",
       "      <td>0</td>\n",
       "      <td>0</td>\n",
       "      <td>34</td>\n",
       "      <td>Prcard</td>\n",
       "      <td>Flash Cab</td>\n",
       "      <td>41.899602111</td>\n",
       "      <td>-87.633308037</td>\n",
       "      <td>41.729676423</td>\n",
       "      <td>-87.572717134</td>\n",
       "      <td>2024-06-12 23:00:00</td>\n",
       "    </tr>\n",
       "    <tr>\n",
       "      <th>1</th>\n",
       "      <td>99a385190a881371dcde15bd12a49e3b7865b1f0</td>\n",
       "      <td>8dbaf4164524af926ddeab5dd084183e585f4cb8cc47fe...</td>\n",
       "      <td>2024-06-12T23:45:00.000</td>\n",
       "      <td>2024-06-13T00:15:00.000</td>\n",
       "      <td>1210</td>\n",
       "      <td>12.65</td>\n",
       "      <td>76</td>\n",
       "      <td>4</td>\n",
       "      <td>32</td>\n",
       "      <td>7.3</td>\n",
       "      <td>0</td>\n",
       "      <td>4</td>\n",
       "      <td>43.8</td>\n",
       "      <td>Credit Card</td>\n",
       "      <td>Medallion Leasin</td>\n",
       "      <td>41.980264315</td>\n",
       "      <td>-87.913624596</td>\n",
       "      <td>41.975170943</td>\n",
       "      <td>-87.687515515</td>\n",
       "      <td>2024-06-12 23:00:00</td>\n",
       "    </tr>\n",
       "    <tr>\n",
       "      <th>2</th>\n",
       "      <td>9414b92a1cf66b8b8b18ade545acc66559f635a6</td>\n",
       "      <td>294ae9e2f433bb460731f9199b1837de3cf88ad987a42b...</td>\n",
       "      <td>2024-06-12T23:45:00.000</td>\n",
       "      <td>2024-06-13T00:00:00.000</td>\n",
       "      <td>1260</td>\n",
       "      <td>12.4</td>\n",
       "      <td>76</td>\n",
       "      <td>NaN</td>\n",
       "      <td>32</td>\n",
       "      <td>0</td>\n",
       "      <td>0</td>\n",
       "      <td>6</td>\n",
       "      <td>38</td>\n",
       "      <td>Cash</td>\n",
       "      <td>Taxi Affiliation Services</td>\n",
       "      <td>41.980264315</td>\n",
       "      <td>-87.913624596</td>\n",
       "      <td>NaN</td>\n",
       "      <td>NaN</td>\n",
       "      <td>2024-06-12 23:00:00</td>\n",
       "    </tr>\n",
       "    <tr>\n",
       "      <th>3</th>\n",
       "      <td>8c83163b2a8d6dd025276d1b9ae201f86152b010</td>\n",
       "      <td>1dca7e7332893fa1836f448df24637325574b860632c18...</td>\n",
       "      <td>2024-06-12T23:45:00.000</td>\n",
       "      <td>2024-06-13T00:15:00.000</td>\n",
       "      <td>1589</td>\n",
       "      <td>5.93</td>\n",
       "      <td>76</td>\n",
       "      <td>10</td>\n",
       "      <td>21.75</td>\n",
       "      <td>0</td>\n",
       "      <td>0</td>\n",
       "      <td>7.5</td>\n",
       "      <td>29.25</td>\n",
       "      <td>Cash</td>\n",
       "      <td>Flash Cab</td>\n",
       "      <td>41.980264315</td>\n",
       "      <td>-87.913624596</td>\n",
       "      <td>41.985015101</td>\n",
       "      <td>-87.804532006</td>\n",
       "      <td>2024-06-12 23:00:00</td>\n",
       "    </tr>\n",
       "    <tr>\n",
       "      <th>4</th>\n",
       "      <td>8c12322c21accd3d99f37bf7b01bd5b2bf5204e9</td>\n",
       "      <td>545ac2dfd5b722e0f0d884cc68ec27d5b0537410edd8bf...</td>\n",
       "      <td>2024-06-12T23:45:00.000</td>\n",
       "      <td>2024-06-12T23:45:00.000</td>\n",
       "      <td>275</td>\n",
       "      <td>0.57</td>\n",
       "      <td>28</td>\n",
       "      <td>32</td>\n",
       "      <td>9</td>\n",
       "      <td>1.15</td>\n",
       "      <td>0</td>\n",
       "      <td>0</td>\n",
       "      <td>10.15</td>\n",
       "      <td>Mobile</td>\n",
       "      <td>Tac - American United Dispatch</td>\n",
       "      <td>41.874005383</td>\n",
       "      <td>-87.66351755</td>\n",
       "      <td>41.878865584</td>\n",
       "      <td>-87.625192142</td>\n",
       "      <td>2024-06-12 23:00:00</td>\n",
       "    </tr>\n",
       "  </tbody>\n",
       "</table>\n",
       "</div>"
      ],
      "text/plain": [
       "                                    trip_id  \\\n",
       "0  9a0eee16b60afd495822f50ab2b7559f775777d5   \n",
       "1  99a385190a881371dcde15bd12a49e3b7865b1f0   \n",
       "2  9414b92a1cf66b8b8b18ade545acc66559f635a6   \n",
       "3  8c83163b2a8d6dd025276d1b9ae201f86152b010   \n",
       "4  8c12322c21accd3d99f37bf7b01bd5b2bf5204e9   \n",
       "\n",
       "                                             taxi_id     trip_start_timestamp  \\\n",
       "0  de9289a1fce135051f6e9206044f8211c86a1a6acd68d4...  2024-06-12T23:45:00.000   \n",
       "1  8dbaf4164524af926ddeab5dd084183e585f4cb8cc47fe...  2024-06-12T23:45:00.000   \n",
       "2  294ae9e2f433bb460731f9199b1837de3cf88ad987a42b...  2024-06-12T23:45:00.000   \n",
       "3  1dca7e7332893fa1836f448df24637325574b860632c18...  2024-06-12T23:45:00.000   \n",
       "4  545ac2dfd5b722e0f0d884cc68ec27d5b0537410edd8bf...  2024-06-12T23:45:00.000   \n",
       "\n",
       "        trip_end_timestamp trip_seconds trip_miles pickup_community_area_id  \\\n",
       "0  2024-06-13T00:15:00.000         1616      12.86                        8   \n",
       "1  2024-06-13T00:15:00.000         1210      12.65                       76   \n",
       "2  2024-06-13T00:00:00.000         1260       12.4                       76   \n",
       "3  2024-06-13T00:15:00.000         1589       5.93                       76   \n",
       "4  2024-06-12T23:45:00.000          275       0.57                       28   \n",
       "\n",
       "  dropoff_community_area_id   fare  tips tolls extras trip_total payment_type  \\\n",
       "0                        48     34     0     0      0         34       Prcard   \n",
       "1                         4     32   7.3     0      4       43.8  Credit Card   \n",
       "2                       NaN     32     0     0      6         38         Cash   \n",
       "3                        10  21.75     0     0    7.5      29.25         Cash   \n",
       "4                        32      9  1.15     0      0      10.15       Mobile   \n",
       "\n",
       "                          company pickup_centroid_latitude  \\\n",
       "0                       Flash Cab             41.899602111   \n",
       "1                Medallion Leasin             41.980264315   \n",
       "2       Taxi Affiliation Services             41.980264315   \n",
       "3                       Flash Cab             41.980264315   \n",
       "4  Tac - American United Dispatch             41.874005383   \n",
       "\n",
       "  pickup_centroid_longitude dropoff_centroid_latitude  \\\n",
       "0             -87.633308037              41.729676423   \n",
       "1             -87.913624596              41.975170943   \n",
       "2             -87.913624596                       NaN   \n",
       "3             -87.913624596              41.985015101   \n",
       "4              -87.66351755              41.878865584   \n",
       "\n",
       "  dropoff_centroid_longitude datetime_for_weather  \n",
       "0              -87.572717134  2024-06-12 23:00:00  \n",
       "1              -87.687515515  2024-06-12 23:00:00  \n",
       "2                        NaN  2024-06-12 23:00:00  \n",
       "3              -87.804532006  2024-06-12 23:00:00  \n",
       "4              -87.625192142  2024-06-12 23:00:00  "
      ]
     },
     "execution_count": 12,
     "metadata": {},
     "output_type": "execute_result"
    }
   ],
   "source": [
    "taxi_trips.head()"
   ]
  },
  {
   "cell_type": "markdown",
   "metadata": {},
   "source": [
    "taxi trips transformation function"
   ]
  },
  {
   "cell_type": "code",
   "execution_count": null,
   "metadata": {},
   "outputs": [],
   "source": [
    "def taxi_trips_transformations(taxi_trips: pd.DataFrame) -> pd.DataFrame:\n",
    "    \"\"\" Perform transformation with the taxi data\n",
    "\n",
    "    Parameters:\n",
    "    -----------\n",
    "        taxi_trips : pd.DataFrame\n",
    "            The dataframe holding the daly taxi trips\n",
    "\n",
    "    Returns:\n",
    "    --------\n",
    "        pd.dataframe\n",
    "        The cleaned transformed Dataframe holding the taxi trips.\n",
    "    \"\"\"\n",
    "\n",
    "    if not isinstance(taxi_trips, pd.DataFrame):\n",
    "        raise TypeError(\"taxi_trips is not a valid pandas datarfame.\")\n",
    "\n",
    "    taxi_trips.drop([\"pickup_census_tract\", \"dropoff_census_tract\"], axis=1, inplace=True)\n",
    "    taxi_trips.drop([\"pickup_centroid_location\", \"dropoff_centroid_location\"], axis=1, inplace=True)\n",
    "\n",
    "    taxi_trips.info()\n",
    "\n",
    "    taxi_trips.rename(columns={\"pickup_community_area\": \"pickup_community_area_id\",\n",
    "                            \"dropoff_community_area\": \"dropoff_community_area_id\"}, inplace=True)\n",
    "\n",
    "    taxi_trips[\"datetime_for_weather\"] = pd.to_datetime(taxi_trips[\"trip_start_timestamp\"]).dt.floor(\"H\")\n",
    "\n",
    "    return taxi_trips"
   ]
  },
  {
   "cell_type": "markdown",
   "metadata": {},
   "source": [
    "company update codes"
   ]
  },
  {
   "cell_type": "code",
   "execution_count": 14,
   "metadata": {},
   "outputs": [
    {
     "data": {
      "text/html": [
       "<div>\n",
       "<style scoped>\n",
       "    .dataframe tbody tr th:only-of-type {\n",
       "        vertical-align: middle;\n",
       "    }\n",
       "\n",
       "    .dataframe tbody tr th {\n",
       "        vertical-align: top;\n",
       "    }\n",
       "\n",
       "    .dataframe thead th {\n",
       "        text-align: right;\n",
       "    }\n",
       "</style>\n",
       "<table border=\"1\" class=\"dataframe\">\n",
       "  <thead>\n",
       "    <tr style=\"text-align: right;\">\n",
       "      <th></th>\n",
       "      <th>company_id</th>\n",
       "      <th>company</th>\n",
       "    </tr>\n",
       "  </thead>\n",
       "  <tbody>\n",
       "    <tr>\n",
       "      <th>29</th>\n",
       "      <td>30</td>\n",
       "      <td>4623 - 27290 Jay Kim</td>\n",
       "    </tr>\n",
       "    <tr>\n",
       "      <th>30</th>\n",
       "      <td>31</td>\n",
       "      <td>3556 - 36214 RC Andrews Cab</td>\n",
       "    </tr>\n",
       "    <tr>\n",
       "      <th>31</th>\n",
       "      <td>32</td>\n",
       "      <td>Petani Cab Corp</td>\n",
       "    </tr>\n",
       "    <tr>\n",
       "      <th>32</th>\n",
       "      <td>33</td>\n",
       "      <td>Tac - Yellow Non Color</td>\n",
       "    </tr>\n",
       "    <tr>\n",
       "      <th>33</th>\n",
       "      <td>34</td>\n",
       "      <td>Metro Jet Taxi A.</td>\n",
       "    </tr>\n",
       "  </tbody>\n",
       "</table>\n",
       "</div>"
      ],
      "text/plain": [
       "    company_id                      company\n",
       "29          30         4623 - 27290 Jay Kim\n",
       "30          31  3556 - 36214 RC Andrews Cab\n",
       "31          32              Petani Cab Corp\n",
       "32          33       Tac - Yellow Non Color\n",
       "33          34            Metro Jet Taxi A."
      ]
     },
     "execution_count": 14,
     "metadata": {},
     "output_type": "execute_result"
    }
   ],
   "source": [
    "company_master = taxi_trips[\"company\"].drop_duplicates().reset_index(drop=True)\n",
    "\n",
    "company_master = pd.DataFrame(\n",
    "    {\n",
    "        \"company_id\": range(1, len(company_master) + 1),\n",
    "        \"company\": company_master\n",
    "    }\n",
    ")\n",
    "\n",
    "company_master.tail()"
   ]
  },
  {
   "cell_type": "code",
   "execution_count": 16,
   "metadata": {},
   "outputs": [
    {
     "data": {
      "text/html": [
       "<div>\n",
       "<style scoped>\n",
       "    .dataframe tbody tr th:only-of-type {\n",
       "        vertical-align: middle;\n",
       "    }\n",
       "\n",
       "    .dataframe tbody tr th {\n",
       "        vertical-align: top;\n",
       "    }\n",
       "\n",
       "    .dataframe thead th {\n",
       "        text-align: right;\n",
       "    }\n",
       "</style>\n",
       "<table border=\"1\" class=\"dataframe\">\n",
       "  <thead>\n",
       "    <tr style=\"text-align: right;\">\n",
       "      <th></th>\n",
       "      <th>company</th>\n",
       "    </tr>\n",
       "  </thead>\n",
       "  <tbody>\n",
       "    <tr>\n",
       "      <th>0</th>\n",
       "      <td>5167 - 71969 5167 Taxi Inc</td>\n",
       "    </tr>\n",
       "    <tr>\n",
       "      <th>1</th>\n",
       "      <td>X</td>\n",
       "    </tr>\n",
       "    <tr>\n",
       "      <th>2</th>\n",
       "      <td>Y</td>\n",
       "    </tr>\n",
       "  </tbody>\n",
       "</table>\n",
       "</div>"
      ],
      "text/plain": [
       "                      company\n",
       "0  5167 - 71969 5167 Taxi Inc\n",
       "1                           X\n",
       "2                           Y"
      ]
     },
     "execution_count": 16,
     "metadata": {},
     "output_type": "execute_result"
    }
   ],
   "source": [
    "new_company_data = [\n",
    "    {\"company\": \"5167 - 71969 5167 Taxi Inc\"},\n",
    "    {\"company\": \"X\"},\n",
    "    {\"company\": \"Y\"},\n",
    "]\n",
    "\n",
    "new_company_mapping = pd.DataFrame(new_company_data)\n",
    "\n",
    "new_company_mapping"
   ]
  },
  {
   "cell_type": "code",
   "execution_count": 18,
   "metadata": {},
   "outputs": [
    {
     "data": {
      "text/plain": [
       "np.int64(34)"
      ]
     },
     "execution_count": 18,
     "metadata": {},
     "output_type": "execute_result"
    }
   ],
   "source": [
    "company_max_id = company_master[\"company_id\"].max()\n",
    "company_max_id"
   ]
  },
  {
   "cell_type": "code",
   "execution_count": 20,
   "metadata": {},
   "outputs": [
    {
     "data": {
      "text/plain": [
       "['X', 'Y']"
      ]
     },
     "execution_count": 20,
     "metadata": {},
     "output_type": "execute_result"
    }
   ],
   "source": [
    "new_companies_list = []\n",
    "\n",
    "for company in new_company_mapping[\"company\"].values:\n",
    "    if company not in company_master[\"company\"].values:\n",
    "        new_companies_list.append(company)\n",
    "\n",
    "# one line\n",
    "# new_companies_list_one_line = [company for company in new_company_mapping[\"company\"].values if company not in company_master[\"company\"].values]\n",
    "\n",
    "new_companies_list"
   ]
  },
  {
   "cell_type": "code",
   "execution_count": 22,
   "metadata": {},
   "outputs": [
    {
     "data": {
      "text/html": [
       "<div>\n",
       "<style scoped>\n",
       "    .dataframe tbody tr th:only-of-type {\n",
       "        vertical-align: middle;\n",
       "    }\n",
       "\n",
       "    .dataframe tbody tr th {\n",
       "        vertical-align: top;\n",
       "    }\n",
       "\n",
       "    .dataframe thead th {\n",
       "        text-align: right;\n",
       "    }\n",
       "</style>\n",
       "<table border=\"1\" class=\"dataframe\">\n",
       "  <thead>\n",
       "    <tr style=\"text-align: right;\">\n",
       "      <th></th>\n",
       "      <th>company_id</th>\n",
       "      <th>company</th>\n",
       "    </tr>\n",
       "  </thead>\n",
       "  <tbody>\n",
       "    <tr>\n",
       "      <th>0</th>\n",
       "      <td>35</td>\n",
       "      <td>X</td>\n",
       "    </tr>\n",
       "    <tr>\n",
       "      <th>1</th>\n",
       "      <td>36</td>\n",
       "      <td>Y</td>\n",
       "    </tr>\n",
       "  </tbody>\n",
       "</table>\n",
       "</div>"
      ],
      "text/plain": [
       "   company_id company\n",
       "0          35       X\n",
       "1          36       Y"
      ]
     },
     "execution_count": 22,
     "metadata": {},
     "output_type": "execute_result"
    }
   ],
   "source": [
    "new_companies_df = pd.DataFrame({\n",
    "    \"company_id\": range(company_max_id + 1, company_max_id + len(new_companies_list) + 1),\n",
    "    \"company\": new_companies_list\n",
    "})\n",
    "\n",
    "new_companies_df"
   ]
  },
  {
   "cell_type": "code",
   "execution_count": null,
   "metadata": {},
   "outputs": [],
   "source": []
  }
 ],
 "metadata": {
  "kernelspec": {
   "display_name": "Python 3",
   "language": "python",
   "name": "python3"
  },
  "language_info": {
   "codemirror_mode": {
    "name": "ipython",
    "version": 3
   },
   "file_extension": ".py",
   "mimetype": "text/x-python",
   "name": "python",
   "nbconvert_exporter": "python",
   "pygments_lexer": "ipython3",
   "version": "3.12.4"
  }
 },
 "nbformat": 4,
 "nbformat_minor": 2
}
